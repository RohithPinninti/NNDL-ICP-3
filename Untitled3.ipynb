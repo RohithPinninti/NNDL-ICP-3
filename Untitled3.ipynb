{
  "nbformat": 4,
  "nbformat_minor": 0,
  "metadata": {
    "colab": {
      "provenance": []
    },
    "kernelspec": {
      "name": "python3",
      "display_name": "Python 3"
    },
    "language_info": {
      "name": "python"
    }
  },
  "cells": [
    {
      "cell_type": "code",
      "execution_count": 1,
      "metadata": {
        "colab": {
          "base_uri": "https://localhost:8080/"
        },
        "id": "tREpk1jb1Ujp",
        "outputId": "f6f2867e-25dd-4813-978a-abf5d3b336b1"
      },
      "outputs": [
        {
          "output_type": "stream",
          "name": "stdout",
          "text": [
            "Average Salary of Employees: $55000.0\n",
            "Total Number of Employees: 3\n",
            "Priya works in the CEO department and earns $70000 per year.\n"
          ]
        }
      ],
      "source": [
        "class Employee:\n",
        "    # Class variable to count the number of Employees\n",
        "    employee_count = 0\n",
        "\n",
        "    def __init__(self, name, family, salary, department):\n",
        "        # Instance variables\n",
        "        self.name = name\n",
        "        self.family = family\n",
        "        self.salary = salary\n",
        "        self.department = department\n",
        "        # Increment the employee count when a new instance is created\n",
        "        Employee.employee_count += 1\n",
        "\n",
        "    def average_salary(self, *salaries):\n",
        "        # Calculate and return the average salary\n",
        "        return sum(salaries) / len(salaries)\n",
        "\n",
        "class FulltimeEmployee(Employee):\n",
        "    # Inheriting properties from the Employee class\n",
        "\n",
        "    def __init__(self, name, family, salary, department, hours_worked):\n",
        "        # Calling the constructor of the parent class\n",
        "        super().__init__(name, family, salary, department)\n",
        "        self.hours_worked = hours_worked\n",
        "\n",
        "# Creating instances of Employee class\n",
        "employee1 = Employee(\"Chid\", \"Family1\", 50000, \"Team Lead\")\n",
        "employee2 = Employee(\"Sowjanya\", \"Family2\", 60000, \"Manager\")\n",
        "\n",
        "# Creating instances of FulltimeEmployee class\n",
        "fulltime_employee = FulltimeEmployee(\"Priya\", \"Family3\", 70000, \"CEO\", 40)\n",
        "\n",
        "# Calling member functions\n",
        "average_salary = employee1.average_salary(employee1.salary, employee2.salary)\n",
        "print(f\"Average Salary of Employees: ${average_salary}\")\n",
        "\n",
        "print(f\"Total Number of Employees: {Employee.employee_count}\")\n",
        "\n",
        "# Accessing properties of FulltimeEmployee class\n",
        "print(f\"{fulltime_employee.name} works in the {fulltime_employee.department} department and earns ${fulltime_employee.salary} per year.\")"
      ]
    },
    {
      "cell_type": "code",
      "source": [
        "import numpy as np\n",
        "\n",
        "# Create a random vector of size 20 with float values in the range 1-20\n",
        "random_vector = np.random.uniform(1, 20, 20)\n",
        "\n",
        "# Reshape the array to a 4x5 matrix\n",
        "reshaped_array = random_vector.reshape((4, 5))\n",
        "\n",
        "# Replace the max value in each row with 0 along axis=1\n",
        "reshaped_array[np.arange(len(reshaped_array)), reshaped_array.argmax(axis=1)] = 0\n",
        "\n",
        "print(\"Random Vector:\")\n",
        "print(random_vector)\n",
        "print(\"\\nReshaped Array (4x5):\")\n",
        "print(reshaped_array)"
      ],
      "metadata": {
        "colab": {
          "base_uri": "https://localhost:8080/"
        },
        "id": "aNv3Cy7Q2gow",
        "outputId": "1b055812-ce32-4dd9-8a26-7643c1fca6a1"
      },
      "execution_count": 2,
      "outputs": [
        {
          "output_type": "stream",
          "name": "stdout",
          "text": [
            "Random Vector:\n",
            "[14.10367406  2.27452249  0.         12.30391262  6.42772443 12.34720016\n",
            "  0.         14.27830112 13.13280805  8.42570693  5.14856934  4.63338867\n",
            " 19.61742242 18.70091972  0.         16.348911   15.83122741 12.30938034\n",
            "  0.          7.10475092]\n",
            "\n",
            "Reshaped Array (4x5):\n",
            "[[14.10367406  2.27452249  0.         12.30391262  6.42772443]\n",
            " [12.34720016  0.         14.27830112 13.13280805  8.42570693]\n",
            " [ 5.14856934  4.63338867 19.61742242 18.70091972  0.        ]\n",
            " [16.348911   15.83122741 12.30938034  0.          7.10475092]]\n"
          ]
        }
      ]
    }
  ]
}